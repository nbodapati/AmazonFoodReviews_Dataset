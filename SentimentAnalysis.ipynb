{
 "cells": [
  {
   "cell_type": "code",
   "execution_count": 1,
   "metadata": {
    "collapsed": true
   },
   "outputs": [],
   "source": [
    "import pickle\n",
    "#Run this with >bokeh serve --show TextAnalysis.ipynb\n",
    "import pandas as pd\n",
    "import numpy as np\n",
    "from collections import Counter\n",
    "import warnings\n",
    "warnings.filterwarnings(\"ignore\")\n",
    "from bokeh.io import curdoc,curstate\n",
    "from bokeh.layouts import widgetbox\n",
    "import time\n",
    "\n",
    "from bokeh.layouts import layout,column,row\n",
    "from bokeh.plotting import figure, show, output_file\n",
    "from bokeh.models import ColumnDataSource,Slider\n",
    "from bokeh.palettes import Spectral6\n",
    "\n",
    "from bokeh.models.widgets import Panel, Tabs\n",
    "from bokeh.models.callbacks import CustomJS\n",
    "\n",
    "import datashader as ds\n",
    "import xarray\n",
    "import time\n",
    "import collections\n",
    "import datashader.transfer_functions as tf"
   ]
  },
  {
   "cell_type": "code",
   "execution_count": 2,
   "metadata": {},
   "outputs": [
    {
     "data": {
      "text/html": [
       "\n",
       "    <div class=\"bk-root\">\n",
       "        <a href=\"http://bokeh.pydata.org\" target=\"_blank\" class=\"bk-logo bk-logo-small bk-logo-notebook\"></a>\n",
       "        <span id=\"80533557-5dd0-4e5f-8cf5-ea8f625d5701\">Loading BokehJS ...</span>\n",
       "    </div>"
      ]
     },
     "metadata": {},
     "output_type": "display_data"
    },
    {
     "data": {
      "application/javascript": [
       "\n",
       "(function(global) {\n",
       "  function now() {\n",
       "    return new Date();\n",
       "  }\n",
       "\n",
       "  var force = true;\n",
       "\n",
       "  if (typeof (window._bokeh_onload_callbacks) === \"undefined\" || force === true) {\n",
       "    window._bokeh_onload_callbacks = [];\n",
       "    window._bokeh_is_loading = undefined;\n",
       "  }\n",
       "\n",
       "\n",
       "  \n",
       "  if (typeof (window._bokeh_timeout) === \"undefined\" || force === true) {\n",
       "    window._bokeh_timeout = Date.now() + 5000;\n",
       "    window._bokeh_failed_load = false;\n",
       "  }\n",
       "\n",
       "  var NB_LOAD_WARNING = {'data': {'text/html':\n",
       "     \"<div style='background-color: #fdd'>\\n\"+\n",
       "     \"<p>\\n\"+\n",
       "     \"BokehJS does not appear to have successfully loaded. If loading BokehJS from CDN, this \\n\"+\n",
       "     \"may be due to a slow or bad network connection. Possible fixes:\\n\"+\n",
       "     \"</p>\\n\"+\n",
       "     \"<ul>\\n\"+\n",
       "     \"<li>re-rerun `output_notebook()` to attempt to load from CDN again, or</li>\\n\"+\n",
       "     \"<li>use INLINE resources instead, as so:</li>\\n\"+\n",
       "     \"</ul>\\n\"+\n",
       "     \"<code>\\n\"+\n",
       "     \"from bokeh.resources import INLINE\\n\"+\n",
       "     \"output_notebook(resources=INLINE)\\n\"+\n",
       "     \"</code>\\n\"+\n",
       "     \"</div>\"}};\n",
       "\n",
       "  function display_loaded() {\n",
       "    if (window.Bokeh !== undefined) {\n",
       "      var el = document.getElementById(\"80533557-5dd0-4e5f-8cf5-ea8f625d5701\");\n",
       "      el.textContent = \"BokehJS \" + Bokeh.version + \" successfully loaded.\";\n",
       "    } else if (Date.now() < window._bokeh_timeout) {\n",
       "      setTimeout(display_loaded, 100)\n",
       "    }\n",
       "  }\n",
       "\n",
       "  function run_callbacks() {\n",
       "    window._bokeh_onload_callbacks.forEach(function(callback) { callback() });\n",
       "    delete window._bokeh_onload_callbacks\n",
       "    console.info(\"Bokeh: all callbacks have finished\");\n",
       "  }\n",
       "\n",
       "  function load_libs(js_urls, callback) {\n",
       "    window._bokeh_onload_callbacks.push(callback);\n",
       "    if (window._bokeh_is_loading > 0) {\n",
       "      console.log(\"Bokeh: BokehJS is being loaded, scheduling callback at\", now());\n",
       "      return null;\n",
       "    }\n",
       "    if (js_urls == null || js_urls.length === 0) {\n",
       "      run_callbacks();\n",
       "      return null;\n",
       "    }\n",
       "    console.log(\"Bokeh: BokehJS not loaded, scheduling load and callback at\", now());\n",
       "    window._bokeh_is_loading = js_urls.length;\n",
       "    for (var i = 0; i < js_urls.length; i++) {\n",
       "      var url = js_urls[i];\n",
       "      var s = document.createElement('script');\n",
       "      s.src = url;\n",
       "      s.async = false;\n",
       "      s.onreadystatechange = s.onload = function() {\n",
       "        window._bokeh_is_loading--;\n",
       "        if (window._bokeh_is_loading === 0) {\n",
       "          console.log(\"Bokeh: all BokehJS libraries loaded\");\n",
       "          run_callbacks()\n",
       "        }\n",
       "      };\n",
       "      s.onerror = function() {\n",
       "        console.warn(\"failed to load library \" + url);\n",
       "      };\n",
       "      console.log(\"Bokeh: injecting script tag for BokehJS library: \", url);\n",
       "      document.getElementsByTagName(\"head\")[0].appendChild(s);\n",
       "    }\n",
       "  };var element = document.getElementById(\"80533557-5dd0-4e5f-8cf5-ea8f625d5701\");\n",
       "  if (element == null) {\n",
       "    console.log(\"Bokeh: ERROR: autoload.js configured with elementid '80533557-5dd0-4e5f-8cf5-ea8f625d5701' but no matching script tag was found. \")\n",
       "    return false;\n",
       "  }\n",
       "\n",
       "  var js_urls = [\"https://cdn.pydata.org/bokeh/release/bokeh-0.12.5.min.js\", \"https://cdn.pydata.org/bokeh/release/bokeh-widgets-0.12.5.min.js\"];\n",
       "\n",
       "  var inline_js = [\n",
       "    function(Bokeh) {\n",
       "      Bokeh.set_log_level(\"info\");\n",
       "    },\n",
       "    \n",
       "    function(Bokeh) {\n",
       "      \n",
       "    },\n",
       "    \n",
       "    function(Bokeh) {\n",
       "      \n",
       "      document.getElementById(\"80533557-5dd0-4e5f-8cf5-ea8f625d5701\").textContent = \"BokehJS is loading...\";\n",
       "    },\n",
       "    function(Bokeh) {\n",
       "      console.log(\"Bokeh: injecting CSS: https://cdn.pydata.org/bokeh/release/bokeh-0.12.5.min.css\");\n",
       "      Bokeh.embed.inject_css(\"https://cdn.pydata.org/bokeh/release/bokeh-0.12.5.min.css\");\n",
       "      console.log(\"Bokeh: injecting CSS: https://cdn.pydata.org/bokeh/release/bokeh-widgets-0.12.5.min.css\");\n",
       "      Bokeh.embed.inject_css(\"https://cdn.pydata.org/bokeh/release/bokeh-widgets-0.12.5.min.css\");\n",
       "    }\n",
       "  ];\n",
       "\n",
       "  function run_inline_js() {\n",
       "    \n",
       "    if ((window.Bokeh !== undefined) || (force === true)) {\n",
       "      for (var i = 0; i < inline_js.length; i++) {\n",
       "        inline_js[i](window.Bokeh);\n",
       "      }if (force === true) {\n",
       "        display_loaded();\n",
       "      }} else if (Date.now() < window._bokeh_timeout) {\n",
       "      setTimeout(run_inline_js, 100);\n",
       "    } else if (!window._bokeh_failed_load) {\n",
       "      console.log(\"Bokeh: BokehJS failed to load within specified timeout.\");\n",
       "      window._bokeh_failed_load = true;\n",
       "    } else if (force !== true) {\n",
       "      var cell = $(document.getElementById(\"80533557-5dd0-4e5f-8cf5-ea8f625d5701\")).parents('.cell').data().cell;\n",
       "      cell.output_area.append_execute_result(NB_LOAD_WARNING)\n",
       "    }\n",
       "\n",
       "  }\n",
       "\n",
       "  if (window._bokeh_is_loading === 0) {\n",
       "    console.log(\"Bokeh: BokehJS loaded, going straight to plotting\");\n",
       "    run_inline_js();\n",
       "  } else {\n",
       "    load_libs(js_urls, function() {\n",
       "      console.log(\"Bokeh: BokehJS plotting callback run at\", now());\n",
       "      run_inline_js();\n",
       "    });\n",
       "  }\n",
       "}(this));"
      ]
     },
     "metadata": {},
     "output_type": "display_data"
    }
   ],
   "source": [
    "from bokeh.io import output_notebook, push_notebook\n",
    "output_notebook()"
   ]
  },
  {
   "cell_type": "code",
   "execution_count": 3,
   "metadata": {},
   "outputs": [
    {
     "name": "stdout",
     "output_type": "stream",
     "text": [
      "dict_keys(['lstm_output', 'y_pred', 'y_val'])\n"
     ]
    }
   ],
   "source": [
    "dict_=pickle.load(open('output_large.pkl','rb'))\n",
    "print(dict_.keys())"
   ]
  },
  {
   "cell_type": "code",
   "execution_count": null,
   "metadata": {},
   "outputs": [],
   "source": [
    "lstm_output=dict_['lstm_output']\n",
    "y_pred=dict_['y_pred']\n",
    "y_val=dict_['y_val']\n",
    "\n",
    "header=[\"col\"+str(x) for x in range(0,len(lstm_output[0]))]\n",
    "index=[\"data\"+str(x) for x in range(len(lstm_output))]\n",
    "lstm_df=pd.DataFrame(lstm_output,columns=header,index=index)\n",
    "\n",
    "#Also  make a numpy array with just the vector representations of teh sentences.\n",
    "lstm_matrix=lstm_df.as_matrix()\n",
    "\n",
    "lstm_df['y_pred']=y_pred\n",
    "lstm_df['y_val']=y_val\n",
    "\n",
    "\n",
    "unique_pred=lstm_df['y_pred'].unique()\n",
    "unique_val=lstm_df['y_val'].unique()\n",
    "color_mapper={1:'red',2:'blue',3:'orange',4:'green',5:'pink'}\n",
    "\n",
    "lstm_df=lstm_df.transpose()\n",
    "lstm_df['index']=list(range(len(lstm_df)))\n",
    "columns=lstm_df.columns\n",
    "\n",
    "preds=lstm_df.loc[\"y_pred\",:]\n",
    "vals=lstm_df.loc[\"y_val\",:]\n"
   ]
  },
  {
   "cell_type": "code",
   "execution_count": 74,
   "metadata": {},
   "outputs": [
    {
     "data": {
      "text/plain": [
       "(-0.76497900485992432, 4.0)"
      ]
     },
     "execution_count": 74,
     "metadata": {},
     "output_type": "execute_result"
    }
   ],
   "source": [
    "x_range=(0,len(lstm_df))\n",
    "y_range=((lstm_df.loc[:,columns[:3]].min()).min(),(lstm_df.loc[:,columns[:3]].max()).max()) \n",
    "cvs = ds.Canvas(x_range=x_range, y_range=y_range, plot_height=300, plot_width=900)\n",
    "y_range"
   ]
  },
  {
   "cell_type": "code",
   "execution_count": 54,
   "metadata": {},
   "outputs": [
    {
     "name": "stdout",
     "output_type": "stream",
     "text": [
      "Wall time: 7.24 s\n"
     ]
    }
   ],
   "source": [
    "%%time\n",
    "aggs= collections.OrderedDict((c, cvs.line(lstm_df,'index', c)) for c in columns[:1])\n",
    "img = tf.shade(aggs['data0'],cmap=['lightblue','darkblue'])"
   ]
  },
  {
   "cell_type": "code",
   "execution_count": 53,
   "metadata": {},
   "outputs": [
    {
     "data": {
      "image/png": "[encoded data removed]",
      "text/plain": [
       "<xarray.Image (data0: 300, index: 900)>\n",
       "array([[0, 0, 0, ..., 0, 0, 0],\n",
       "       [0, 0, 0, ..., 0, 0, 0],\n",
       "       [0, 0, 0, ..., 0, 0, 0],\n",
       "       ..., \n",
       "       [0, 0, 0, ..., 0, 0, 0],\n",
       "       [0, 0, 0, ..., 0, 0, 0],\n",
       "       [0, 0, 0, ..., 0, 0, 0]], dtype=uint32)\n",
       "Coordinates:\n",
       "  * data0    (data0) float64 -0.7554 -0.7429 -0.7303 -0.7178 -0.7053 -0.6927 ...\n",
       "  * index    (index) float64 0.07222 0.2167 0.3611 0.5056 0.65 0.7944 0.9389 ..."
      ]
     },
     "execution_count": 53,
     "metadata": {},
     "output_type": "execute_result"
    }
   ],
   "source": [
    "img"
   ]
  },
  {
   "cell_type": "code",
   "execution_count": 59,
   "metadata": {},
   "outputs": [
    {
     "data": {
      "image/png": "[encoded data removed]",
      "text/plain": [
       "<xarray.Image (value: 300, index: 900)>\n",
       "array([[0, 0, 0, ..., 0, 0, 0],\n",
       "       [0, 0, 0, ..., 0, 0, 0],\n",
       "       [0, 0, 0, ..., 0, 0, 0],\n",
       "       ..., \n",
       "       [0, 0, 0, ..., 0, 0, 0],\n",
       "       [0, 0, 0, ..., 0, 0, 0],\n",
       "       [0, 0, 0, ..., 0, 0, 0]], dtype=uint32)\n",
       "Coordinates:\n",
       "  * value    (value) float64 -0.7554 -0.7429 -0.7303 -0.7178 -0.7053 -0.6927 ...\n",
       "  * index    (index) float64 0.07222 0.2167 0.3611 0.5056 0.65 0.7944 0.9389 ..."
      ]
     },
     "execution_count": 59,
     "metadata": {},
     "output_type": "execute_result"
    }
   ],
   "source": [
    "aggs= collections.OrderedDict((c, cvs.line(lstm_df,'index', c)) for c in columns[:3])\n",
    "renamed = [aggs[key].rename({key: 'value'}) for key in aggs]\n",
    "merged = xarray.concat(renamed, 'cols')\n",
    "tf.shade(merged.any(dim='cols'))"
   ]
  },
  {
   "cell_type": "code",
   "execution_count": 61,
   "metadata": {},
   "outputs": [
    {
     "data": {
      "image/png": "[encoded data removed]",
      "text/plain": [
       "<xarray.Image (data0: 300, index: 900)>\n",
       "array([[0, 0, 0, ..., 0, 0, 0],\n",
       "       [0, 0, 0, ..., 0, 0, 0],\n",
       "       [0, 0, 0, ..., 0, 0, 0],\n",
       "       ..., \n",
       "       [0, 0, 0, ..., 0, 0, 0],\n",
       "       [0, 0, 0, ..., 0, 0, 0],\n",
       "       [0, 0, 0, ..., 0, 0, 0]], dtype=uint32)\n",
       "Coordinates:\n",
       "  * data0    (data0) float64 -0.7554 -0.7429 -0.7303 -0.7178 -0.7053 -0.6927 ...\n",
       "  * index    (index) float64 0.07222 0.2167 0.3611 0.5056 0.65 0.7944 0.9389 ..."
      ]
     },
     "execution_count": 61,
     "metadata": {},
     "output_type": "execute_result"
    }
   ],
   "source": [
    "imgs = [tf.shade(aggs[i], cmap=[color_mapper[c]]) for i, c in zip(columns[:3],vals[:3])]\n",
    "tf.stack(*imgs)"
   ]
  },
  {
   "cell_type": "code",
   "execution_count": null,
   "metadata": {},
   "outputs": [],
   "source": [
    "from datashader.bokeh_ext import InteractiveImage\n",
    "from bokeh.models import BoxZoomTool\n",
    "\n",
    "def base_plot(tools='pan,wheel_zoom,reset'):\n",
    "    p = figure(tools=tools, plot_width=600, plot_height=300,\n",
    "        x_range=x_range, y_range=y_range)   \n",
    "    p.xgrid.grid_line_color = None\n",
    "    p.ygrid.grid_line_color = None\n",
    "    p.add_tools(BoxZoomTool(match_aspect=True))\n",
    "    return p\n",
    "\n",
    "def create_image(x_range, y_range, w, h,ncols=100):\n",
    "    cvs = ds.Canvas(x_range=x_range, y_range=y_range,\n",
    "                    plot_height=h, plot_width=w)\n",
    "    aggs = collections.OrderedDict((c,cvs.line(lstm_df, 'index', c, agg=ds.count())) for c in columns[:ncols])\n",
    "    renamed = [aggs[key].rename({key: 'value'}) for key in aggs]\n",
    "    merged = xarray.concat(renamed, 'cols')\n",
    "    total = merged.sum(dim='cols')\n",
    "    img = tf.shade(total, how='linear')\n",
    "    return tf.dynspread(img)\n",
    "\n",
    "p=base_plot()\n",
    "InteractiveImage(p, create_image)"
   ]
  },
  {
   "cell_type": "code",
   "execution_count": null,
   "metadata": {
    "collapsed": true
   },
   "outputs": [],
   "source": [
    "ndim=128\n",
    "df = ds.utils.dataframe_from_multiple_sequences(np.arange(ndim), lstm_matrix)\n",
    "cvs = ds.Canvas(plot_height=400, plot_width=1000)\n",
    "agg = cvs.line(df, 'x', 'y', ds.count())   \n",
    "img = tf.shade(agg, how='eq_hist')\n",
    "img"
   ]
  },
  {
   "cell_type": "code",
   "execution_count": 25,
   "metadata": {},
   "outputs": [
    {
     "data": {
      "text/html": [
       "\n",
       "\n",
       "    <div class=\"bk-root\">\n",
       "        <div class=\"bk-plotdiv\" id=\"70323b3a-44b4-4b23-8ccd-db12a2265023\"></div>\n",
       "    </div>\n",
       "<script type=\"text/javascript\">\n",
       "  \n",
       "  (function(global) {\n",
       "    function now() {\n",
       "      return new Date();\n",
       "    }\n",
       "  \n",
       "    var force = false;\n",
       "  \n",
       "    if (typeof (window._bokeh_onload_callbacks) === \"undefined\" || force === true) {\n",
       "      window._bokeh_onload_callbacks = [];\n",
       "      window._bokeh_is_loading = undefined;\n",
       "    }\n",
       "  \n",
       "  \n",
       "    \n",
       "    if (typeof (window._bokeh_timeout) === \"undefined\" || force === true) {\n",
       "      window._bokeh_timeout = Date.now() + 0;\n",
       "      window._bokeh_failed_load = false;\n",
       "    }\n",
       "  \n",
       "    var NB_LOAD_WARNING = {'data': {'text/html':\n",
       "       \"<div style='background-color: #fdd'>\\n\"+\n",
       "       \"<p>\\n\"+\n",
       "       \"BokehJS does not appear to have successfully loaded. If loading BokehJS from CDN, this \\n\"+\n",
       "       \"may be due to a slow or bad network connection. Possible fixes:\\n\"+\n",
       "       \"</p>\\n\"+\n",
       "       \"<ul>\\n\"+\n",
       "       \"<li>re-rerun `output_notebook()` to attempt to load from CDN again, or</li>\\n\"+\n",
       "       \"<li>use INLINE resources instead, as so:</li>\\n\"+\n",
       "       \"</ul>\\n\"+\n",
       "       \"<code>\\n\"+\n",
       "       \"from bokeh.resources import INLINE\\n\"+\n",
       "       \"output_notebook(resources=INLINE)\\n\"+\n",
       "       \"</code>\\n\"+\n",
       "       \"</div>\"}};\n",
       "  \n",
       "    function display_loaded() {\n",
       "      if (window.Bokeh !== undefined) {\n",
       "        var el = document.getElementById(\"70323b3a-44b4-4b23-8ccd-db12a2265023\");\n",
       "        el.textContent = \"BokehJS \" + Bokeh.version + \" successfully loaded.\";\n",
       "      } else if (Date.now() < window._bokeh_timeout) {\n",
       "        setTimeout(display_loaded, 100)\n",
       "      }\n",
       "    }\n",
       "  \n",
       "    function run_callbacks() {\n",
       "      window._bokeh_onload_callbacks.forEach(function(callback) { callback() });\n",
       "      delete window._bokeh_onload_callbacks\n",
       "      console.info(\"Bokeh: all callbacks have finished\");\n",
       "    }\n",
       "  \n",
       "    function load_libs(js_urls, callback) {\n",
       "      window._bokeh_onload_callbacks.push(callback);\n",
       "      if (window._bokeh_is_loading > 0) {\n",
       "        console.log(\"Bokeh: BokehJS is being loaded, scheduling callback at\", now());\n",
       "        return null;\n",
       "      }\n",
       "      if (js_urls == null || js_urls.length === 0) {\n",
       "        run_callbacks();\n",
       "        return null;\n",
       "      }\n",
       "      console.log(\"Bokeh: BokehJS not loaded, scheduling load and callback at\", now());\n",
       "      window._bokeh_is_loading = js_urls.length;\n",
       "      for (var i = 0; i < js_urls.length; i++) {\n",
       "        var url = js_urls[i];\n",
       "        var s = document.createElement('script');\n",
       "        s.src = url;\n",
       "        s.async = false;\n",
       "        s.onreadystatechange = s.onload = function() {\n",
       "          window._bokeh_is_loading--;\n",
       "          if (window._bokeh_is_loading === 0) {\n",
       "            console.log(\"Bokeh: all BokehJS libraries loaded\");\n",
       "            run_callbacks()\n",
       "          }\n",
       "        };\n",
       "        s.onerror = function() {\n",
       "          console.warn(\"failed to load library \" + url);\n",
       "        };\n",
       "        console.log(\"Bokeh: injecting script tag for BokehJS library: \", url);\n",
       "        document.getElementsByTagName(\"head\")[0].appendChild(s);\n",
       "      }\n",
       "    };var element = document.getElementById(\"70323b3a-44b4-4b23-8ccd-db12a2265023\");\n",
       "    if (element == null) {\n",
       "      console.log(\"Bokeh: ERROR: autoload.js configured with elementid '70323b3a-44b4-4b23-8ccd-db12a2265023' but no matching script tag was found. \")\n",
       "      return false;\n",
       "    }\n",
       "  \n",
       "    var js_urls = [];\n",
       "  \n",
       "    var inline_js = [\n",
       "      function(Bokeh) {\n",
       "        (function() {\n",
       "          var fn = function() {\n",
       "            var docs_json = {\"dcc43f2d-20fd-432e-a7e2-f8540196765e\":{\"roots\":{\"references\":[{\"attributes\":{\"data_source\":{\"id\":\"383ff729-f8e1-433c-af10-e793c02cad1c\",\"type\":\"ColumnDataSource\"},\"glyph\":{\"id\":\"f988b7f4-fa29-477d-8c4c-f2a9c40fa592\",\"type\":\"Line\"},\"hover_glyph\":null,\"muted_glyph\":null,\"nonselection_glyph\":{\"id\":\"18dc1f3b-93a2-450f-bd7f-a118a4aa6580\",\"type\":\"Line\"},\"selection_glyph\":null},\"id\":\"a274178d-0254-478e-873b-80d6cbe9bfe0\",\"type\":\"GlyphRenderer\"},{\"attributes\":{\"callback\":null,\"column_names\":[\"x\",\"y\"],\"data\":{\"x\":[0,1,2,3,4,5,6,7,8,9,10,11,12,13,14,15,16,17,18,19,20,21,22,23,24,25,26,27,28,29,30,31,32,33,34,35,36,37,38,39,40,41,42,43,44,45,46,47,48,49,50,51,52,53,54,55,56,57,58,59,60,61,62,63,64,65,66,67,68,69,70,71,72,73,74,75,76,77,78,79,80,81,82,83,84,85,86,87,88,89,90,91,92,93,94,95,96,97,98,99,100,101,102,103,104,105,106,107,108,109,110,111,112,113,114,115,116,117,118,119,120,121,122,123,124,125,126,127,\"y_pred\",\"y_val\",\"index\"],\"y\":{\"__ndarray__\":\"AAAAAKKIXD8AAAAg5h2mvwAAAGDtZXC/AAAAoGVM5b8AAABAFqrTPwAAAAA+MY4/AAAAoNIltT8AAACAgbS6PwAAAAAAAACAAAAAAFCTqb8AAAAAAAAAgAAAAAAqE8Q/AAAAQPy0wD8AAACAr0WhPwAAAKCdwc6/AAAAoMrUkL8AAADA2BDqPwAAAOAQQc4/AAAAAAAAAAAAAAAglMHRvwAAAMB35d4/AAAAgHcDsj8AAABgvl6yPwAAAIAq/bo/AAAAwIvR1b8AAADgsTnGvwAAAIDNSL2/AAAAwEQ4qL8AAAAAAAAAgAAAAACZd9C/AAAAQBXQub8AAABAe2TOvwAAAMCC86M/AAAAwM85sD8AAADAj8mxvwAAAKCS7r6/AAAAgJr9xr8AAABgx1/ovwAAAGCF95S/AAAAIGwUmb8AAAAAAAAAAAAAAKCPArM/AAAAYHdBtj8AAADgRc+2vwAAAGAl064/AAAAoDi25j8AAAAgA9PFvwAAAGAvT9q/AAAA4KoGoT8AAACg3AXRvwAAAECfhuS/AAAA4Fp0sr8AAAAAxqfKPwAAAKDJP9s/AAAAIG7sdr8AAACAEL51vwAAAMAdCq4/AAAAoNtwcb8AAAAA2/a8PwAAAOCD37Y/AAAAoP//7z8AAABgAAPSPwAAAEDEKuM/AAAAIB+alL8AAABA9hPTvwAAAADIXbY/AAAAAAAAAAAAAABAxtrJPwAAAOAEfeC/AAAAwIV7w78AAABAnInSvwAAAMBjusW/AAAAAJbokj8AAABAHpfsPwAAAOC9MuS/AAAA4KRt4b8AAADA+VSpPwAAAACunI0/AAAAoAuRsL8AAABghrXHvwAAAAAAAACAAAAAQHircT8AAACgGJWbPwAAAIB/Wra/AAAAYO4t0D8AAABAdemtvwAAAKCModE/AAAAwFu8tz8AAABAHPLWvwAAAIDDSOQ/AAAAQFtgub8AAAAgwSTIvwAAACBTk7y/AAAA4B0VxL8AAABApWjlPwAAAMABOYC/AAAA4ODNwb8AAADggarCvwAAAOAy2eQ/AAAAgM2e0D8AAADgiWzCPwAAAEAtkb4/AAAAwNE2sD8AAACAhzHCPwAAAADj+Mm/AAAAoI7Qyz8AAACg6r3TvwAAAGCdkrg/AAAAQFu0s78AAACgUiTgPwAAAOBdaMy/AAAAAH711r8AAACAt6vQPwAAAABlypo/AAAAYHSvr78AAAAAw2KVvwAAAGA9ZoG/AAAA4Pzzur8AAABA0kCuPwAAAMB4MYg/AAAAoK8ZwD8AAACAma+cPwAAAIDjdbm/AAAAIJ/6x78AAABg0smIPwAAAKAqOdg/AAAAYMLDxz8AAAAgDF7kvwAAAAAAAAhAAAAAAAAACEAAAAAAAAAAAA==\",\"dtype\":\"float64\",\"shape\":[131]}}},\"id\":\"495700c6-6443-4dfe-b2a5-7ec161b7a256\",\"type\":\"ColumnDataSource\"},{\"attributes\":{\"below\":[{\"id\":\"04719bba-dda3-40c3-b669-512298985ecd\",\"type\":\"LinearAxis\"}],\"left\":[{\"id\":\"b1e14cdf-9920-4012-a748-aeded27f37c2\",\"type\":\"LinearAxis\"}],\"plot_height\":350,\"plot_width\":800,\"renderers\":[{\"id\":\"04719bba-dda3-40c3-b669-512298985ecd\",\"type\":\"LinearAxis\"},{\"id\":\"8deb1eee-64a2-44b0-b3d6-5d66034bfc87\",\"type\":\"Grid\"},{\"id\":\"b1e14cdf-9920-4012-a748-aeded27f37c2\",\"type\":\"LinearAxis\"},{\"id\":\"ddc7ad9b-ca2a-4d2c-a156-0735bd05804d\",\"type\":\"Grid\"},{\"id\":\"361aaf18-ec2d-4e5e-960d-579f80a8a270\",\"type\":\"BoxAnnotation\"},{\"id\":\"ca58d8b1-1269-4e0e-85d8-8a0bf54f9375\",\"type\":\"Legend\"},{\"id\":\"50a738d9-69ad-49c3-87d2-2aba40b873e7\",\"type\":\"GlyphRenderer\"},{\"id\":\"cac9a20d-62b6-4c65-bc89-7666a9565bd9\",\"type\":\"GlyphRenderer\"},{\"id\":\"a274178d-0254-478e-873b-80d6cbe9bfe0\",\"type\":\"GlyphRenderer\"}],\"title\":{\"id\":\"9413ab14-4701-45ff-b10a-f19ecfed906b\",\"type\":\"Title\"},\"tool_events\":{\"id\":\"8754afb7-2d6a-4aa9-b5b9-18e375a06286\",\"type\":\"ToolEvents\"},\"toolbar\":{\"id\":\"a66bc3f1-a859-40fe-8580-64f43939898d\",\"type\":\"Toolbar\"},\"x_range\":{\"id\":\"9551ce29-ffe6-4acf-ac54-6f89053fe11f\",\"type\":\"DataRange1d\"},\"y_range\":{\"id\":\"ef31af3c-847f-47cb-9c16-19e501b70016\",\"type\":\"DataRange1d\"}},\"id\":\"2ae6d380-601b-4718-b363-0099b08c6baf\",\"subtype\":\"Figure\",\"type\":\"Plot\"},{\"attributes\":{\"data_source\":{\"id\":\"495700c6-6443-4dfe-b2a5-7ec161b7a256\",\"type\":\"ColumnDataSource\"},\"glyph\":{\"id\":\"01f94cb7-a4dc-467e-807b-8fb29db65d4e\",\"type\":\"Line\"},\"hover_glyph\":null,\"muted_glyph\":null,\"nonselection_glyph\":{\"id\":\"7356c03a-7ead-4ddf-aa23-4f6ae44c6683\",\"type\":\"Line\"},\"selection_glyph\":null},\"id\":\"50a738d9-69ad-49c3-87d2-2aba40b873e7\",\"type\":\"GlyphRenderer\"},{\"attributes\":{\"plot\":{\"id\":\"2ae6d380-601b-4718-b363-0099b08c6baf\",\"subtype\":\"Figure\",\"type\":\"Plot\"},\"ticker\":{\"id\":\"36184b68-7eaf-4dfa-b96d-fdc9c30c55e8\",\"type\":\"BasicTicker\"}},\"id\":\"8deb1eee-64a2-44b0-b3d6-5d66034bfc87\",\"type\":\"Grid\"},{\"attributes\":{},\"id\":\"36184b68-7eaf-4dfa-b96d-fdc9c30c55e8\",\"type\":\"BasicTicker\"},{\"attributes\":{},\"id\":\"5ae0b199-6435-46fe-8185-f0bd3f9daa38\",\"type\":\"BasicTickFormatter\"},{\"attributes\":{},\"id\":\"1eb3f0db-6304-4466-82d0-f4c1540a01e4\",\"type\":\"BasicTicker\"},{\"attributes\":{\"formatter\":{\"id\":\"5ae0b199-6435-46fe-8185-f0bd3f9daa38\",\"type\":\"BasicTickFormatter\"},\"plot\":{\"id\":\"2ae6d380-601b-4718-b363-0099b08c6baf\",\"subtype\":\"Figure\",\"type\":\"Plot\"},\"ticker\":{\"id\":\"36184b68-7eaf-4dfa-b96d-fdc9c30c55e8\",\"type\":\"BasicTicker\"}},\"id\":\"04719bba-dda3-40c3-b669-512298985ecd\",\"type\":\"LinearAxis\"},{\"attributes\":{\"formatter\":{\"id\":\"556c0af0-2ec1-4c82-88ee-f5f0669389b8\",\"type\":\"BasicTickFormatter\"},\"plot\":{\"id\":\"2ae6d380-601b-4718-b363-0099b08c6baf\",\"subtype\":\"Figure\",\"type\":\"Plot\"},\"ticker\":{\"id\":\"1eb3f0db-6304-4466-82d0-f4c1540a01e4\",\"type\":\"BasicTicker\"}},\"id\":\"b1e14cdf-9920-4012-a748-aeded27f37c2\",\"type\":\"LinearAxis\"},{\"attributes\":{\"line_color\":{\"value\":\"orange\"},\"line_width\":{\"value\":3.0},\"x\":{\"field\":\"x\"},\"y\":{\"field\":\"y\"}},\"id\":\"01f94cb7-a4dc-467e-807b-8fb29db65d4e\",\"type\":\"Line\"},{\"attributes\":{\"callback\":null},\"id\":\"ef31af3c-847f-47cb-9c16-19e501b70016\",\"type\":\"DataRange1d\"},{\"attributes\":{\"bottom_units\":\"screen\",\"fill_alpha\":{\"value\":0.5},\"fill_color\":{\"value\":\"lightgrey\"},\"left_units\":\"screen\",\"level\":\"overlay\",\"line_alpha\":{\"value\":1.0},\"line_color\":{\"value\":\"black\"},\"line_dash\":[4,4],\"line_width\":{\"value\":2},\"plot\":null,\"render_mode\":\"css\",\"right_units\":\"screen\",\"top_units\":\"screen\"},\"id\":\"361aaf18-ec2d-4e5e-960d-579f80a8a270\",\"type\":\"BoxAnnotation\"},{\"attributes\":{\"plot\":{\"id\":\"2ae6d380-601b-4718-b363-0099b08c6baf\",\"subtype\":\"Figure\",\"type\":\"Plot\"}},\"id\":\"66802aa0-a8bf-4d84-8412-427ccad619e2\",\"type\":\"PanTool\"},{\"attributes\":{\"items\":[{\"id\":\"4f2f2a9e-6ac7-4760-9567-d59a708e260d\",\"type\":\"LegendItem\"},{\"id\":\"c60814dd-b684-4ea7-8dd0-712d810b006f\",\"type\":\"LegendItem\"},{\"id\":\"9571664b-11b2-491b-902d-16117764dda2\",\"type\":\"LegendItem\"}],\"plot\":{\"id\":\"2ae6d380-601b-4718-b363-0099b08c6baf\",\"subtype\":\"Figure\",\"type\":\"Plot\"}},\"id\":\"ca58d8b1-1269-4e0e-85d8-8a0bf54f9375\",\"type\":\"Legend\"},{\"attributes\":{\"line_alpha\":{\"value\":0.1},\"line_color\":{\"value\":\"#1f77b4\"},\"line_width\":{\"value\":3.0},\"x\":{\"field\":\"x\"},\"y\":{\"field\":\"y\"}},\"id\":\"7356c03a-7ead-4ddf-aa23-4f6ae44c6683\",\"type\":\"Line\"},{\"attributes\":{\"callback\":null,\"column_names\":[\"x\",\"y\"],\"data\":{\"x\":[0,1,2,3,4,5,6,7,8,9,10,11,12,13,14,15,16,17,18,19,20,21,22,23,24,25,26,27,28,29,30,31,32,33,34,35,36,37,38,39,40,41,42,43,44,45,46,47,48,49,50,51,52,53,54,55,56,57,58,59,60,61,62,63,64,65,66,67,68,69,70,71,72,73,74,75,76,77,78,79,80,81,82,83,84,85,86,87,88,89,90,91,92,93,94,95,96,97,98,99,100,101,102,103,104,105,106,107,108,109,110,111,112,113,114,115,116,117,118,119,120,121,122,123,124,125,126,127,\"y_pred\",\"y_val\",\"index\"],\"y\":{\"__ndarray__\":\"AAAAYNsCWj8AAACgE3a4vwAAAAAAAAAAAAAAoNsCVz8AAAAAmNfaPwAAAKD+iM4/AAAAgGXfoz8AAACAFVe9PwAAAOAeaaK/AAAAwJR14r8AAABgRWc2PwAAAOD6R4u/AAAAQGb5zT8AAACA3nSNvwAAAGAmS6U/AAAAoNokg78AAADgve/fPwAAAACxf8U/AAAAALtQpD8AAACAWl7hvwAAAICdVrE/AAAAwAxbmj8AAACAcA2jPwAAAGDxIr0/AAAAAPRYzr8AAABgsxi3PwAAAGBXxcC/AAAAwPUYrD8AAAAAAAAAgAAAAABSs72/AAAAIP8l0b8AAADgfyXUvwAAAGCzFqM/AAAAgNeour8AAADAXunGPwAAAOCqucO/AAAAYDMfxL8AAABA4Y7JvwAAACB18G+/AAAAoKi7jb8AAADgBjREPwAAAGDhS5Y/AAAAYO9DzL8AAAAAsPzfvwAAAOAzgaQ/AAAAoDQy4D8AAAAAsgTWPwAAAADvSdy/AAAAoIHwlb8AAABA03SjvwAAAEC1eui/AAAAYDsfkj8AAACgG47hvwAAAMDzX7S/AAAAwG8Qkr8AAADgNtmdPwAAACBFnbg/AAAA4PFqob8AAAAAMg/jPwAAAGDmEuM/AAAAIFf97z8AAADAl1zPPwAAAGAfyMg/AAAAAHdfZL8AAADAmzLcvwAAAODH/K8/AAAAAAAAAAAAAABAQ5PiPwAAAAByyt2/AAAAIJA4uD8AAAAAtabPvwAAAKCoYq+/AAAAgHVhwT8AAADAH6zsPwAAAMCDzMW/AAAAoORz5L8AAACg1uXEPwAAAIANiqI/AAAAABp42z8AAABg/3ixvwAAAMBjNsA/AAAAAAAAAIAAAABgxQhkvwAAAEBsSqC/AAAAIP31mL8AAAAAg6ekvwAAAIAkF9A/AAAAwBvNzT8AAAAAhq7UPwAAAKCD180/AAAAADempr8AAACg+/HAvwAAAIBp1Lk/AAAAgK0AbD8AAAAg71zWPwAAAGDoubK/AAAAwAURjL8AAADgWR6jvwAAAEAo7+M/AAAAYJtV0T8AAADgVuqRPwAAAODDW5M/AAAAwMHInT8AAADABbnBPwAAAICiRrc/AAAAoFrRwL8AAAAASWx9PwAAACBKTNk/AAAAQA9QrT8AAAAg+snkPwAAACDw67Q/AAAAIC+J078AAABgFR20PwAAAGD8Ysa/AAAAYHRLwb8AAACgOCHHvwAAAMC++M2/AAAAIKITrb8AAABATSSsPwAAAIAeGWg/AAAAwO60cr8AAABA28/GPwAAAGCjnIo/AAAAAAOAoL8AAACg+xezPwAAAEALGNg/AAAAYBPTir8AAAAgdojSvwAAAAAAABBAAAAAAAAAEEAAAAAAAADwPw==\",\"dtype\":\"float64\",\"shape\":[131]}}},\"id\":\"f72a0fac-cc75-4cca-9f9c-b0238f9c55ce\",\"type\":\"ColumnDataSource\"},{\"attributes\":{\"overlay\":{\"id\":\"361aaf18-ec2d-4e5e-960d-579f80a8a270\",\"type\":\"BoxAnnotation\"},\"plot\":{\"id\":\"2ae6d380-601b-4718-b363-0099b08c6baf\",\"subtype\":\"Figure\",\"type\":\"Plot\"}},\"id\":\"ef239a8f-7987-4bb6-9c63-250b51d26bf9\",\"type\":\"BoxZoomTool\"},{\"attributes\":{\"dimension\":1,\"plot\":{\"id\":\"2ae6d380-601b-4718-b363-0099b08c6baf\",\"subtype\":\"Figure\",\"type\":\"Plot\"},\"ticker\":{\"id\":\"1eb3f0db-6304-4466-82d0-f4c1540a01e4\",\"type\":\"BasicTicker\"}},\"id\":\"ddc7ad9b-ca2a-4d2c-a156-0735bd05804d\",\"type\":\"Grid\"},{\"attributes\":{\"line_alpha\":{\"value\":0.1},\"line_color\":{\"value\":\"#1f77b4\"},\"line_width\":{\"value\":3.0},\"x\":{\"field\":\"x\"},\"y\":{\"field\":\"y\"}},\"id\":\"18dc1f3b-93a2-450f-bd7f-a118a4aa6580\",\"type\":\"Line\"},{\"attributes\":{\"plot\":null,\"text\":\"\"},\"id\":\"9413ab14-4701-45ff-b10a-f19ecfed906b\",\"type\":\"Title\"},{\"attributes\":{\"plot\":{\"id\":\"2ae6d380-601b-4718-b363-0099b08c6baf\",\"subtype\":\"Figure\",\"type\":\"Plot\"}},\"id\":\"9ca0a4c6-41d0-4712-bd32-382aaaf0e296\",\"type\":\"WheelZoomTool\"},{\"attributes\":{\"plot\":{\"id\":\"2ae6d380-601b-4718-b363-0099b08c6baf\",\"subtype\":\"Figure\",\"type\":\"Plot\"}},\"id\":\"9141b7a6-c8cb-4d49-859b-4a9185222a62\",\"type\":\"ResetTool\"},{\"attributes\":{\"plot\":{\"id\":\"2ae6d380-601b-4718-b363-0099b08c6baf\",\"subtype\":\"Figure\",\"type\":\"Plot\"}},\"id\":\"a36c4b60-db50-4c0e-bc41-19b25f8e0add\",\"type\":\"HelpTool\"},{\"attributes\":{},\"id\":\"556c0af0-2ec1-4c82-88ee-f5f0669389b8\",\"type\":\"BasicTickFormatter\"},{\"attributes\":{\"plot\":{\"id\":\"2ae6d380-601b-4718-b363-0099b08c6baf\",\"subtype\":\"Figure\",\"type\":\"Plot\"}},\"id\":\"6eb56510-a133-4858-aba9-37a87d715d9a\",\"type\":\"SaveTool\"},{\"attributes\":{\"line_color\":{\"value\":\"green\"},\"line_width\":{\"value\":4.0},\"x\":{\"field\":\"x\"},\"y\":{\"field\":\"y\"}},\"id\":\"6248250e-673d-41b6-a8c3-6994eb96a556\",\"type\":\"Line\"},{\"attributes\":{\"label\":{\"value\":\"col1\"},\"renderers\":[{\"id\":\"cac9a20d-62b6-4c65-bc89-7666a9565bd9\",\"type\":\"GlyphRenderer\"}]},\"id\":\"c60814dd-b684-4ea7-8dd0-712d810b006f\",\"type\":\"LegendItem\"},{\"attributes\":{\"label\":{\"value\":\"col0\"},\"renderers\":[{\"id\":\"50a738d9-69ad-49c3-87d2-2aba40b873e7\",\"type\":\"GlyphRenderer\"}]},\"id\":\"4f2f2a9e-6ac7-4760-9567-d59a708e260d\",\"type\":\"LegendItem\"},{\"attributes\":{\"data_source\":{\"id\":\"f72a0fac-cc75-4cca-9f9c-b0238f9c55ce\",\"type\":\"ColumnDataSource\"},\"glyph\":{\"id\":\"6248250e-673d-41b6-a8c3-6994eb96a556\",\"type\":\"Line\"},\"hover_glyph\":null,\"muted_glyph\":null,\"nonselection_glyph\":{\"id\":\"f19923bf-675a-4ae5-8428-22a62753a9fd\",\"type\":\"Line\"},\"selection_glyph\":null},\"id\":\"cac9a20d-62b6-4c65-bc89-7666a9565bd9\",\"type\":\"GlyphRenderer\"},{\"attributes\":{\"callback\":null,\"column_names\":[\"x\",\"y\"],\"data\":{\"x\":[0,1,2,3,4,5,6,7,8,9,10,11,12,13,14,15,16,17,18,19,20,21,22,23,24,25,26,27,28,29,30,31,32,33,34,35,36,37,38,39,40,41,42,43,44,45,46,47,48,49,50,51,52,53,54,55,56,57,58,59,60,61,62,63,64,65,66,67,68,69,70,71,72,73,74,75,76,77,78,79,80,81,82,83,84,85,86,87,88,89,90,91,92,93,94,95,96,97,98,99,100,101,102,103,104,105,106,107,108,109,110,111,112,113,114,115,116,117,118,119,120,121,122,123,124,125,126,127,\"y_pred\",\"y_val\",\"index\"],\"y\":{\"__ndarray__\":\"AAAA4LuHgz8AAAAArgmwvwAAAKBACYa/AAAAoGXRr78AAADAEnKuPwAAAIB+d7Y/AAAAgMIcnz8AAAAAjyXNvwAAAAAAAACAAAAAIEP4ob8AAAAAAAAAgAAAAOATmH2/AAAAIOrRyj8AAADgcIqSvwAAACDKh9Q/AAAA4L/hSj8AAADgctzsPwAAAGBqZ6A/AAAAAAAAAAAAAABgq1jsPwAAAOBIoGc/AAAA4C6phz8AAABAN7zfPwAAAOBb3r0/AAAAAMqWtj8AAADAJFLRvwAAAMDtxr4/AAAAYC6dyD8AAACAgFyqvwAAAKB349e/AAAAANO1tT8AAABgZgPgvwAAAGAaAJE/AAAAAE8vxb8AAACA61DgPwAAACCfIcO/AAAAIKQXqL8AAABA4rTHvwAAAOA65ME/AAAAwEQggr8AAAAAAAAAgAAAAODrW84/AAAAwJ7Wnj8AAAAgJIbSvwAAAICr57A/AAAAADb6uT8AAAAgS7jCPwAAAECLcte/AAAAoKjdq78AAACgYe3QPwAAAODlMuM/AAAAQPRp0b8AAADgB67OPwAAAKBh/aE/AAAAoK0ilz8AAAAAkgjAPwAAAIAoT9C/AAAAIIpnwL8AAADgnZ3pPwAAAOAcqda/AAAAwNBC6z8AAADA8q/cPwAAAEBlle4/AAAAgAV1nz8AAABga/vdPwAAAEBYcaM/AAAAAAAAAAAAAABgXpC/PwAAAIB/l8K/AAAAoJJR2L8AAABgzqTlvwAAAKDC/8w/AAAAIOrqtD8AAABAId3WPwAAAAB1ULM/AAAAYDyS578AAABgb9ziPwAAAOBpqIS/AAAA4NTt0T8AAAAg+Ya+vwAAAMBcY1U/AAAAAAAAAIAAAABAvWpYPwAAAMBkvrI/AAAAYKEWzT8AAADAneDAPwAAAGBeK9Y/AAAAgBAe0T8AAABglNWzvwAAAGAVEIA/AAAAIMItwb8AAAAgaQHEPwAAAGBhk5u/AAAAQDdSz78AAAAAlI/nPwAAAGBooqa/AAAAgJUZoD8AAABgQVfJvwAAAKAGOOE/AAAAoFl0xr8AAAAgUx+dvwAAAIDpV52/AAAA4LU0xL8AAABApnPEPwAAACBiotG/AAAAADm02r8AAABAd8mtvwAAAGBz7LS/AAAAAIIYaD8AAABADCLjPwAAAODi5VQ/AAAAYK831b8AAABgFVziPwAAACBO1sS/AAAAoO8t3r8AAAAgIk7DvwAAAGDFsLS/AAAAYJpatL8AAABAj92dPwAAAMC1QcA/AAAAoEaOr78AAADgvp3ZvwAAAIAPtNK/AAAAAFsHoL8AAAAAjoqwvwAAAIB82uY/AAAA4Itioj8AAADA2l/bvwAAAAAAAAhAAAAAAAAACEAAAAAAAAAAQA==\",\"dtype\":\"float64\",\"shape\":[131]}}},\"id\":\"383ff729-f8e1-433c-af10-e793c02cad1c\",\"type\":\"ColumnDataSource\"},{\"attributes\":{},\"id\":\"8754afb7-2d6a-4aa9-b5b9-18e375a06286\",\"type\":\"ToolEvents\"},{\"attributes\":{\"line_color\":{\"value\":\"orange\"},\"line_width\":{\"value\":3.0},\"x\":{\"field\":\"x\"},\"y\":{\"field\":\"y\"}},\"id\":\"f988b7f4-fa29-477d-8c4c-f2a9c40fa592\",\"type\":\"Line\"},{\"attributes\":{\"callback\":null},\"id\":\"9551ce29-ffe6-4acf-ac54-6f89053fe11f\",\"type\":\"DataRange1d\"},{\"attributes\":{\"active_drag\":\"auto\",\"active_scroll\":\"auto\",\"active_tap\":\"auto\",\"tools\":[{\"id\":\"66802aa0-a8bf-4d84-8412-427ccad619e2\",\"type\":\"PanTool\"},{\"id\":\"9ca0a4c6-41d0-4712-bd32-382aaaf0e296\",\"type\":\"WheelZoomTool\"},{\"id\":\"ef239a8f-7987-4bb6-9c63-250b51d26bf9\",\"type\":\"BoxZoomTool\"},{\"id\":\"6eb56510-a133-4858-aba9-37a87d715d9a\",\"type\":\"SaveTool\"},{\"id\":\"9141b7a6-c8cb-4d49-859b-4a9185222a62\",\"type\":\"ResetTool\"},{\"id\":\"a36c4b60-db50-4c0e-bc41-19b25f8e0add\",\"type\":\"HelpTool\"}]},\"id\":\"a66bc3f1-a859-40fe-8580-64f43939898d\",\"type\":\"Toolbar\"},{\"attributes\":{\"line_alpha\":{\"value\":0.1},\"line_color\":{\"value\":\"#1f77b4\"},\"line_width\":{\"value\":4.0},\"x\":{\"field\":\"x\"},\"y\":{\"field\":\"y\"}},\"id\":\"f19923bf-675a-4ae5-8428-22a62753a9fd\",\"type\":\"Line\"},{\"attributes\":{\"label\":{\"value\":\"col2\"},\"renderers\":[{\"id\":\"a274178d-0254-478e-873b-80d6cbe9bfe0\",\"type\":\"GlyphRenderer\"}]},\"id\":\"9571664b-11b2-491b-902d-16117764dda2\",\"type\":\"LegendItem\"}],\"root_ids\":[\"2ae6d380-601b-4718-b363-0099b08c6baf\"]},\"title\":\"Bokeh Application\",\"version\":\"0.12.5\"}};\n",
       "            var render_items = [{\"docid\":\"dcc43f2d-20fd-432e-a7e2-f8540196765e\",\"elementid\":\"70323b3a-44b4-4b23-8ccd-db12a2265023\",\"modelid\":\"2ae6d380-601b-4718-b363-0099b08c6baf\"}];\n",
       "            \n",
       "            Bokeh.embed.embed_items(docs_json, render_items);\n",
       "          };\n",
       "          if (document.readyState != \"loading\") fn();\n",
       "          else document.addEventListener(\"DOMContentLoaded\", fn);\n",
       "        })();\n",
       "      },\n",
       "      function(Bokeh) {\n",
       "      }\n",
       "    ];\n",
       "  \n",
       "    function run_inline_js() {\n",
       "      \n",
       "      if ((window.Bokeh !== undefined) || (force === true)) {\n",
       "        for (var i = 0; i < inline_js.length; i++) {\n",
       "          inline_js[i](window.Bokeh);\n",
       "        }if (force === true) {\n",
       "          display_loaded();\n",
       "        }} else if (Date.now() < window._bokeh_timeout) {\n",
       "        setTimeout(run_inline_js, 100);\n",
       "      } else if (!window._bokeh_failed_load) {\n",
       "        console.log(\"Bokeh: BokehJS failed to load within specified timeout.\");\n",
       "        window._bokeh_failed_load = true;\n",
       "      } else if (force !== true) {\n",
       "        var cell = $(document.getElementById(\"70323b3a-44b4-4b23-8ccd-db12a2265023\")).parents('.cell').data().cell;\n",
       "        cell.output_area.append_execute_result(NB_LOAD_WARNING)\n",
       "      }\n",
       "  \n",
       "    }\n",
       "  \n",
       "    if (window._bokeh_is_loading === 0) {\n",
       "      console.log(\"Bokeh: BokehJS loaded, going straight to plotting\");\n",
       "      run_inline_js();\n",
       "    } else {\n",
       "      load_libs(js_urls, function() {\n",
       "        console.log(\"Bokeh: BokehJS plotting callback run at\", now());\n",
       "        run_inline_js();\n",
       "      });\n",
       "    }\n",
       "  }(this));\n",
       "</script>"
      ]
     },
     "metadata": {},
     "output_type": "display_data"
    }
   ],
   "source": [
    "p = figure(plot_width=800, plot_height=350)\n",
    "\n",
    "for col in columns[:3]:\n",
    "    p.line(lstm_df['index'], lstm_df[col],legend=col,line_color=color_mapper[preds[col]],line_width=vals[col])\n",
    "show(p)\n",
    "#suffers from over plotting and plotting-order."
   ]
  }
 ],
 "metadata": {
  "kernelspec": {
   "display_name": "Python 3",
   "language": "python",
   "name": "python3"
  },
  "language_info": {
   "codemirror_mode": {
    "name": "ipython",
    "version": 3
   },
   "file_extension": ".py",
   "mimetype": "text/x-python",
   "name": "python",
   "nbconvert_exporter": "python",
   "pygments_lexer": "ipython3",
   "version": "3.6.1"
  }
 },
 "nbformat": 4,
 "nbformat_minor": 2
}
